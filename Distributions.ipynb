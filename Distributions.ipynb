{
 "cells": [
  {
   "cell_type": "markdown",
   "id": "6b631be1",
   "metadata": {},
   "source": [
    "## Report 1. \n",
    "\n",
    "This is a statistics and probability analysis notebook focusing on common probability distributions (binomial, Poisson, hypergeometric, normal etc.). The notebook contains educational exercises for calculating probabilities and statistical measures.\n",
    "\n",
    "## Key Patterns and Conventions\n",
    "\n",
    "### Probability Distributions - cheet-sheet \n",
    "\n",
    "Please find the following cheat-sheet for all the most popular probability distributions (here)[https://github.com/reza-bagheri/probability_distributions/blob/main/prob_dist_cheatsheet.pdf] and use it to solve the tasks below.\n",
    "\n",
    "### Statistical Libraries\n",
    "\n",
    "- Use `scipy.stats` for probability distributions and calculations\n",
    "- Import specific distributions: `from scipy.stats import binom, poisson, hypergeom, norm`\n",
    "- Use `numpy` for numerical operations and array handling\n",
    "\n",
    "### Exercise Structure\n",
    "\n",
    "Each exercise follows this pattern:\n",
    "1. **Problem statement** in markdown cells describing real-world scenarios\n",
    "2. **Empty code cells** with commented placeholders for each sub-problem\n",
    "3. **Parameters clearly defined** (n, p, λ, μ, σ) in the problem text"
   ]
  },
  {
   "cell_type": "markdown",
   "id": "f98aa67b",
   "metadata": {},
   "source": [
    "### Problem-Solving Approach\n",
    "1. **Identify the distribution type** from the problem context\n",
    "2. **Extract parameters** from the problem statement\n",
    "3. **Translate probability notation** (P(X ≤ 3), P(X > 4)) to appropriate scipy methods\n",
    "4. **Verify results** make sense (probabilities between 0 and 1)"
   ]
  },
  {
   "cell_type": "markdown",
   "id": "ddf63723",
   "metadata": {},
   "source": [
    "---"
   ]
  },
  {
   "cell_type": "code",
   "execution_count": null,
   "id": "53defbcf",
   "metadata": {},
   "outputs": [],
   "source": [
    "from scipy.stats import binom, poisson, hypergeom, norm\n",
    "import numpy as np"
   ]
  },
  {
   "cell_type": "markdown",
   "id": "74b57ddb",
   "metadata": {},
   "source": [
    "## Exercise 1.\n",
    "\n",
    "As a sport analyst, you would like to calculate some probabilities for basketball player who is shooting guard.\n",
    "\n",
    "n = 10 attemps and\n",
    "p = 0.7 the probability for scoring three-points \n",
    "\n",
    "Calculate the following probabilities: P(X ≤ 3), P(X < 3), P(X > 4) and P(X = 7)."
   ]
  },
  {
   "cell_type": "code",
   "execution_count": null,
   "id": "04984e41",
   "metadata": {},
   "outputs": [
    {
     "name": "stdout",
     "output_type": "stream",
     "text": [
      "P(X ≤ 3): 0.010592078400000007\n",
      "P(X < 3): 0.0015903864000000015\n",
      "P(X > 4): 0.9526510126\n",
      "P(X = 7): 0.2668279320000002\n",
      "P(X = 7): 0.26682793200000005\n",
      "P(X < 3): 3.0\n"
     ]
    }
   ],
   "source": [
    "#P(X ≤ 3)\n",
    "n = 10\n",
    "p = 0.7\n",
    "prob_at_most_3 = binom.cdf(3, n, p)\n",
    "print(f\"P(X ≤ 3): {prob_at_most_3}\")\n",
    "\n",
    "#P(X < 3)\n",
    "prob_less_than_3 = binom.cdf(2, n, p)\n",
    "print(f\"P(X < 3): {prob_less_than_3}\")\n",
    "\n",
    "#P(X > 4)\n",
    "prob_more_than_4 = 1 - binom.cdf(4, n, p)\n",
    "print(f\"P(X > 4): {prob_more_than_4}\")\n",
    "\n",
    "\n",
    "#P(X = 7)\n",
    "prob_at_7 = binom.cdf(7,n,p)- binom.cdf(6,n,p) \n",
    "print(f\"P(X = 7): {prob_at_7}\")\n",
    "prob_at_7_pmf = binom.pmf(7,n,p)\n",
    "print(f\"P(X = 7): {prob_at_7_pmf}\")\n",
    "\n",
    "\n",
    "\n",
    "\n",
    "prob_at_3_ppf = binom.ppf(0.010592078400000007,n,p)\n",
    "print(f\"P(X < 3): {prob_at_3_ppf}\")"
   ]
  },
  {
   "cell_type": "markdown",
   "id": "29467123",
   "metadata": {},
   "source": [
    "\n",
    "## Exercise 2.\n",
    "\n",
    "On a large fully automated production plant items are pushed to a side band at random time points, from which they are automatically fed to a control unit. The production plant is set up in such a way that the number of items sent to the control unit on average is 1.6 item pr. minute. Let the random variable X denote the number of items pushed to the side band in 1 minute.\n",
    "\n",
    "a) What is the probability that there will be more than 5 items at the control unit in a given minute?\n",
    "\n",
    "b) What is the probability that less than 8 items arrive to the control unit within a 5-minute period?"
   ]
  },
  {
   "cell_type": "code",
   "execution_count": null,
   "id": "f5bfe91e",
   "metadata": {},
   "outputs": [
    {
     "name": "stdout",
     "output_type": "stream",
     "text": [
      "P(X>5): 0.006040291111581331\n",
      "P(X<8): 0.45296080948699446\n"
     ]
    }
   ],
   "source": [
    "more_than_5 = 1 - poisson.cdf(5,1.6)\n",
    "print(f\"P(X>5): {more_than_5}\")\n",
    "\n",
    "less_than_8 = poisson.cdf(7,5*1.6)\n",
    "print(f\"P(X<8): {less_than_8}\")\n",
    "\n",
    "# plot those dist, mark with red: our results"
   ]
  },
  {
   "cell_type": "markdown",
   "id": "c2940331",
   "metadata": {},
   "source": [
    "## Exercise 3.\n",
    "\n",
    "In the manufacture of car engine cylinders, it's known that there are 5 defective cylinders in every batch of 100 cylinders produced. From a production batch of 100 cylinders, 6 cylinders are selected randomly for analyzing.\n",
    "\n",
    "What is the probability that the sample contains 2 defective cylinders?"
   ]
  },
  {
   "cell_type": "code",
   "execution_count": null,
   "id": "3af796ba",
   "metadata": {},
   "outputs": [],
   "source": []
  },
  {
   "cell_type": "markdown",
   "id": "5f2f4b72",
   "metadata": {},
   "source": [
    "## Exercise 4.\n",
    "\n",
    "A company, which produces tires, is using new technology to provide safer driving experience to drivers. According to their claim, while speed is 70km/h, breaking distance of those tires have normal distribution with mean equal to 26.4 meters and sigma is equal to 2.34\n",
    "\n",
    "According to standards, breaking distance shouldn't be higher than 29 meters, while speed is 70 km/h. \n",
    "\n",
    "a) What is the probability of being comply with standards ?\n",
    "\n",
    "b) What is the probability of having breaking distance between 26 and 24 ?"
   ]
  },
  {
   "cell_type": "code",
   "execution_count": null,
   "id": "5d799a44",
   "metadata": {},
   "outputs": [],
   "source": []
  },
  {
   "cell_type": "markdown",
   "id": "9a2a0753",
   "metadata": {},
   "source": [
    "---"
   ]
  },
  {
   "cell_type": "markdown",
   "id": "94cbaa63",
   "metadata": {},
   "source": [
    "### Visualization and Result Interpretation\n",
    "\n",
    "**Visualizing Distributions:**\n"
   ]
  },
  {
   "cell_type": "code",
   "execution_count": 4,
   "id": "581d555d",
   "metadata": {},
   "outputs": [],
   "source": [
    "import matplotlib.pyplot as plt\n",
    "import numpy as np"
   ]
  },
  {
   "cell_type": "markdown",
   "id": "53c996f7",
   "metadata": {},
   "source": [
    "---"
   ]
  },
  {
   "cell_type": "markdown",
   "id": "78a63948",
   "metadata": {},
   "source": [
    "## Advanced Exercises\n",
    "\n",
    "### Exercise 5: Network Reliability \n",
    "\n",
    "**Problem:** A server farm has 20 independent servers, each with 95% uptime probability. The system needs at least 18 servers operational to function properly. Additionally, during peak hours, server requests follow a Poisson process with λ=4.2 requests/minute.\n",
    "\n",
    "a) What's the probability the system functions properly?\n",
    "\n",
    "b) Given the system is functional, what's the probability of receiving exactly 6 requests in the next minute?\n",
    "\n",
    "c) What's the expected number of failed servers and its standard deviation?"
   ]
  },
  {
   "cell_type": "code",
   "execution_count": null,
   "id": "61b639f5",
   "metadata": {},
   "outputs": [],
   "source": []
  },
  {
   "cell_type": "markdown",
   "id": "2827ddd2",
   "metadata": {},
   "source": [
    "\n",
    "### Exercise 6: Inventory Management\n",
    "\n",
    "**Problem:** A warehouse stocks items with demand following different patterns:\n",
    "- Daily demand: Normal(μ=150, σ=25)\n",
    "- Weekly restock arrives with 8% chance of delay\n",
    "- When delayed, additional wait time is exponentially distributed with λ=0.5 days⁻¹\n",
    "\n",
    "a) What inventory level ensures 95% probability of meeting daily demand?\n",
    "\n",
    "b) What's the probability of stockout if starting inventory is 180 units?\n",
    "\n",
    "c) What's the expected total wait time for restock (including potential delays)?"
   ]
  },
  {
   "cell_type": "code",
   "execution_count": null,
   "id": "61ba304c",
   "metadata": {},
   "outputs": [],
   "source": []
  },
  {
   "cell_type": "markdown",
   "id": "9ea0bfd2",
   "metadata": {},
   "source": [
    "\n",
    "### Exercise 7: Clinical Trial Analysis \n",
    "\n",
    "**Problem:** A clinical trial has 500 participants: 300 receiving treatment, 200 receiving placebo. Treatment success rate is 75%, placebo success rate is 40%. Researchers randomly select 50 participants for detailed analysis.\n",
    "\n",
    "a) What's the probability that exactly 30 participants in the sample received treatment?\n",
    "\n",
    "b) Among those 30 treatment participants, what's the probability that at least 20 show positive results?\n",
    "\n",
    "c) Use normal approximation to estimate the probability that total successes in the full trial exceed 280."
   ]
  },
  {
   "cell_type": "code",
   "execution_count": null,
   "id": "0bc642d2",
   "metadata": {},
   "outputs": [],
   "source": []
  },
  {
   "cell_type": "markdown",
   "id": "844b094d",
   "metadata": {},
   "source": [
    "---"
   ]
  }
 ],
 "metadata": {
  "kernelspec": {
   "display_name": "Python 3",
   "language": "python",
   "name": "python3"
  },
  "language_info": {
   "codemirror_mode": {
    "name": "ipython",
    "version": 3
   },
   "file_extension": ".py",
   "mimetype": "text/x-python",
   "name": "python",
   "nbconvert_exporter": "python",
   "pygments_lexer": "ipython3",
   "version": "3.13.2"
  }
 },
 "nbformat": 4,
 "nbformat_minor": 5
}
